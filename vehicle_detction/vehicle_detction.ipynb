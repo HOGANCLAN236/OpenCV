{
 "cells": [
  {
   "cell_type": "code",
   "execution_count": 6,
   "id": "e3c0e8e2",
   "metadata": {},
   "outputs": [],
   "source": [
    "import cv2, numpy as np"
   ]
  },
  {
   "cell_type": "code",
   "execution_count": 7,
   "id": "152f68c6",
   "metadata": {},
   "outputs": [],
   "source": [
    "min_contour_width = 40\n",
    "min_contour_height = 40\n",
    "\n",
    "offset = 10\n",
    "line_height = 550\n",
    "matchs = []\n",
    "vehicles = 0"
   ]
  },
  {
   "cell_type": "code",
   "execution_count": 13,
   "id": "28cb4983",
   "metadata": {},
   "outputs": [],
   "source": [
    "def get_centroid(x, y, w, h):\n",
    "    x1 = int(w / 2)\n",
    "    y1 = int(h / 2)\n",
    "\n",
    "    cx = x+x1\n",
    "    cy = y+y1\n",
    "    return cx, cy"
   ]
  },
  {
   "cell_type": "code",
   "execution_count": 9,
   "id": "3b02a315",
   "metadata": {},
   "outputs": [],
   "source": [
    "cap = cv2.VideoCapture(\"Vehicle_video/Video.mp4\")\n",
    "\n"
   ]
  },
  {
   "cell_type": "code",
   "execution_count": 10,
   "id": "cc8885b8",
   "metadata": {},
   "outputs": [],
   "source": [
    "cap.set(3, 1920)\n",
    "cap.set(4, 1080)\n",
    "if cap.isOpened():\n",
    "    ret, frame1 = cap.read()\n",
    "else:\n",
    "    ret = False\n",
    "\n",
    "ret, frame1 = cap.read()\n",
    "ret, frame2 = cap.read()"
   ]
  },
  {
   "cell_type": "code",
   "execution_count": 14,
   "id": "c7566837",
   "metadata": {},
   "outputs": [
    {
     "ename": "",
     "evalue": "",
     "output_type": "error",
     "traceback": [
      "\u001b[1;31mThe Kernel crashed while executing code in the current cell or a previous cell. \n",
      "\u001b[1;31mPlease review the code in the cell(s) to identify a possible cause of the failure. \n",
      "\u001b[1;31mClick <a href='https://aka.ms/vscodeJupyterKernelCrash'>here</a> for more info. \n",
      "\u001b[1;31mView Jupyter <a href='command:jupyter.viewOutput'>log</a> for further details."
     ]
    }
   ],
   "source": [
    "while ret:\n",
    "    d = cv2.absdiff(frame1, frame2)\n",
    "    grey = cv2.cvtColor(d, cv2.COLOR_BGR2GRAY)\n",
    "    blur = cv2.GaussianBlur(grey, (5, 5), 0)\n",
    "    ret, th = cv2.threshold(blur, 20, 255, cv2.THRESH_BINARY)\n",
    "    dialated = cv2.dilate(th, np.ones((3, 3)))\n",
    "    kernel = cv2.getStructuringElement(cv2.MORPH_ELLIPSE, (2, 2))\n",
    "\n",
    "    closing = cv2.morphologyEx(dialated, cv2.MORPH_CLOSE, kernel)\n",
    "    contours, h = cv2.findContours(\n",
    "        closing, cv2.RETR_TREE, cv2.CHAIN_APPROX_SIMPLE\n",
    "    )\n",
    "\n",
    "    for (i, c) in enumerate(contours):\n",
    "        (x, y, w, h) = cv2.boundingRect(c)\n",
    "        contour_valid = (w >= min_contour_width) and (h >= min_contour_height)\n",
    "\n",
    "        if not contour_valid:\n",
    "            continue\n",
    "\n",
    "        cv2.rectangle(frame1, (x - 10, y - 10), (x+w+10, y+h+10), (255, 0, 0), 2)\n",
    "        cv2.line(frame1, (0, line_height), (1200, line_height), (0, 255, 0), 2)\n",
    "        centroid = get_centroid(x, y, w, h)\n",
    "        matchs.append(centroid)\n",
    "        cv2.circle(frame1, centroid, 5, (0, 255, 0), -1)\n",
    "        cx, cy = get_centroid(x, y, w, h)\n",
    "        for (x, y) in matchs:\n",
    "            if y < (line_height+offset) and y > (line_height-offset):\n",
    "                vehicles = vehicles +1\n",
    "                matchs.remove((x, y))\n",
    "    \n",
    "    cv2.putText(frame1, \"Total Vehicle Detected: \" + str(vehicles), (10, 90), cv2.FONT_HERSHEY_SIMPLEX, 1,\n",
    "                (0, 170, 0), 2)\n",
    "    \n",
    "    \n",
    "    \n",
    "    cv2.imshow(\"Vehicle Detection\", frame1)\n",
    "    if cv2.waitKey(1) == 27:\n",
    "        break\n",
    "    frame1 = frame2\n",
    "    ret, frame2 = cap.read()\n",
    " \n",
    "cv2.destroyAllWindows()\n",
    "cap.release()"
   ]
  }
 ],
 "metadata": {
  "kernelspec": {
   "display_name": "Python 3",
   "language": "python",
   "name": "python3"
  },
  "language_info": {
   "codemirror_mode": {
    "name": "ipython",
    "version": 3
   },
   "file_extension": ".py",
   "mimetype": "text/x-python",
   "name": "python",
   "nbconvert_exporter": "python",
   "pygments_lexer": "ipython3",
   "version": "3.11.9"
  }
 },
 "nbformat": 4,
 "nbformat_minor": 5
}
