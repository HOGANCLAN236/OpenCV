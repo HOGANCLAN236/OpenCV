{
 "cells": [
  {
   "cell_type": "code",
   "execution_count": null,
   "id": "b42455e9",
   "metadata": {},
   "outputs": [],
   "source": [
    "import cv2, numpy as np\n",
    "import os\n",
    "from PIL import Image"
   ]
  },
  {
   "cell_type": "code",
   "execution_count": 24,
   "id": "61273fd9",
   "metadata": {},
   "outputs": [],
   "source": [
    "os.chdir(\"C:/Users/dylan/OneDrive/Desktop/Dev/Jetlearn/OpenCV/Images\")\n",
    "path = \"C:/Users/dylan/OneDrive/Desktop/Dev/Jetlearn/OpenCV/Images\"\n"
   ]
  },
  {
   "cell_type": "code",
   "execution_count": 25,
   "id": "7d69b812",
   "metadata": {},
   "outputs": [
    {
     "name": "stdout",
     "output_type": "stream",
     "text": [
      "9\n"
     ]
    }
   ],
   "source": [
    "mean_height = 0\n",
    "mean_width = 0\n",
    "\n",
    "num_of_images = len(os.listdir(\".\"))\n",
    "print(num_of_images)"
   ]
  },
  {
   "cell_type": "code",
   "execution_count": 26,
   "id": "9ffcc5ba",
   "metadata": {},
   "outputs": [
    {
     "name": "stdout",
     "output_type": "stream",
     "text": [
      "629 476\n"
     ]
    }
   ],
   "source": [
    "for file in os.listdir(\".\"):\n",
    "    img = Image.open(os.path.join(path, file))\n",
    "    width, height = img.size \n",
    "    mean_width += width\n",
    "    mean_height += height\n",
    "\n",
    "mean_width = mean_width // num_of_images\n",
    "mean_height = mean_height // num_of_images\n",
    "\n",
    "print(mean_width, mean_height)"
   ]
  },
  {
   "cell_type": "code",
   "execution_count": 29,
   "id": "3567dc52",
   "metadata": {},
   "outputs": [
    {
     "name": "stdout",
     "output_type": "stream",
     "text": [
      "629 476\n",
      "bground.png    Is Resized\n",
      "629 476\n",
      "bg_flappybird.png    Is Resized\n",
      "629 476\n",
      "blackandwhite.jpeg    Is Resized\n",
      "629 476\n",
      "Blue_sky_bg.png    Is Resized\n",
      "629 476\n",
      "B_W.png    Is Resized\n",
      "629 476\n",
      "circles.png    Is Resized\n",
      "629 476\n",
      "closeup.jpg    Is Resized\n",
      "629 476\n",
      "space_bg.png    Is Resized\n",
      "629 476\n",
      "water_bg.jpg    Is Resized\n"
     ]
    }
   ],
   "source": [
    "for file in os.listdir(\".\"):\n",
    "    if file.endswith(\".jpg\") or file.endswith(\".jpeg\") or file.endswith(\".png\"):\n",
    "        img = Image.open(os.path.join(path, file))\n",
    "        width, height = img.size\n",
    "        print(width, height)\n",
    "\n",
    "        img_resized = img.resize((mean_width, mean_height), Image.LANCZOS)\n",
    "\n",
    "        img_resized.save(file, \"png\", quailty=95)\n",
    "        print(img.filename.split(\"\\\\\") [-1], \"   Is Resized\")\n",
    "\n"
   ]
  },
  {
   "cell_type": "code",
   "execution_count": 33,
   "id": "91d38691",
   "metadata": {},
   "outputs": [
    {
     "name": "stdout",
     "output_type": "stream",
     "text": [
      "['bground.png', 'bg_flappybird.png', 'blackandwhite.jpeg', 'Blue_sky_bg.png', 'B_W.png', 'circles.png', 'closeup.jpg', 'Collage.avi', 'space_bg.png', 'water_bg.jpg']\n"
     ]
    }
   ],
   "source": [
    "def video_gen():\n",
    "    video_name = \"Collage.avi\"\n",
    "    os.chdir(\"C:/Users/dylan/OneDrive/Desktop/Dev/Jetlearn/OpenCV/Images\")\n",
    "\n",
    "    images = []\n",
    "    for img in os.listdir(\".\"):\n",
    "        if file.endswith(\".jpg\") or file.endswith(\".jpeg\") or file.endswith(\".png\"):\n",
    "            images.append(img)\n",
    "    print(images)\n",
    "\n",
    "    frame = cv2.imread(os.path.join(\".\", images[0]))\n",
    "    height, width, layers = frame.shape\n",
    "\n",
    "    video = cv2.VideoWriter(video_name, 0, 1, (width, height))\n",
    "\n",
    "    for img in images:\n",
    "        video.write(cv2.imread(os.path.join(\".\", img)))\n",
    "    \n",
    "    cv2.destroyAllWindows()\n",
    "    video.release()\n",
    "\n",
    "video_gen()"
   ]
  }
 ],
 "metadata": {
  "kernelspec": {
   "display_name": "Python 3",
   "language": "python",
   "name": "python3"
  },
  "language_info": {
   "codemirror_mode": {
    "name": "ipython",
    "version": 3
   },
   "file_extension": ".py",
   "mimetype": "text/x-python",
   "name": "python",
   "nbconvert_exporter": "python",
   "pygments_lexer": "ipython3",
   "version": "3.11.9"
  }
 },
 "nbformat": 4,
 "nbformat_minor": 5
}
