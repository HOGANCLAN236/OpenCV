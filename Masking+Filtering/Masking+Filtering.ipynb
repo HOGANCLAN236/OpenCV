{
 "cells": [
  {
   "cell_type": "code",
   "execution_count": 1,
   "id": "541f3724",
   "metadata": {},
   "outputs": [],
   "source": [
    "import cv2, numpy as np"
   ]
  },
  {
   "cell_type": "code",
   "execution_count": null,
   "id": "08e677f3",
   "metadata": {},
   "outputs": [],
   "source": [
    "#Making of an image due to color\n",
    "image = cv2.imread(\"Images/Blue_sky_bg.png\")\n",
    "hsv = cv2.cvtColor(image, cv2.COLOR_BGR2HSV)\n",
    "lower = np.array([60, 60, 60])\n",
    "upper = np.array([255, 255, 255])\n",
    "\n",
    "mask = cv2.inRange(hsv, lower, upper)\n",
    "\n",
    "result = cv2.bitwise_and(image, image, mask=mask)\n",
    "cv2.imshow(\"Mask\", mask)\n",
    "cv2.waitKey(0)\n",
    "cv2.imshow(\"Masked Image\", result)\n",
    "cv2.waitKey(0)\n",
    "cv2.destroyAllWindows()\n",
    "\n"
   ]
  },
  {
   "cell_type": "code",
   "execution_count": null,
   "id": "0ce043a1",
   "metadata": {},
   "outputs": [],
   "source": [
    "#masking of an image in a certain area\n",
    "mask = np.zeros(image.shape[:2], np.uint8)\n",
    "mask[100:250, 150:450] = 255\n",
    "\n",
    "masked_img = cv2.bitwise_and(image, image, mask=mask)\n",
    "\n",
    "cv2.imshow(\"Mask\", mask)\n",
    "cv2.waitKey(0)\n",
    "cv2.imshow(\"Masked Image\", masked_img)\n",
    "cv2.waitKey(0)\n",
    "cv2.destroyAllWindows()"
   ]
  }
 ],
 "metadata": {
  "kernelspec": {
   "display_name": "Python 3",
   "language": "python",
   "name": "python3"
  },
  "language_info": {
   "codemirror_mode": {
    "name": "ipython",
    "version": 3
   },
   "file_extension": ".py",
   "mimetype": "text/x-python",
   "name": "python",
   "nbconvert_exporter": "python",
   "pygments_lexer": "ipython3",
   "version": "3.11.9"
  }
 },
 "nbformat": 4,
 "nbformat_minor": 5
}
